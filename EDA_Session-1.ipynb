{
 "cells": [
  {
   "cell_type": "code",
   "execution_count": null,
   "id": "4f938677-5de1-4449-87bc-e6cfcc11f31d",
   "metadata": {},
   "outputs": [],
   "source": [
    "========== EDA ==========\n",
    "1) Pandas: Data frame applications\n",
    "2) Numpy: Numerical python all maths applications\n",
    "3) Matplotlib: used for plotting\n",
    "4) Seaborn: used for plotting\n",
    "5) plotly: used for plotting\n",
    "6) Bokhe: used for plotting\n",
    "\n",
    "========== ML ==========\n",
    "7) Scikit-learn: sklearn\n",
    "\n",
    "========== DL ==========\n",
    "8)  Tensorflow: Google \n",
    "9)  Keras: Google\n",
    "10) Pytorch: Facebook\n",
    "\n",
    "========== NLP ==========\n",
    "11) NLTK: Natural Language Tool Kit \n",
    "12) Scipy \n",
    "\n",
    "========== BERT ==========\n",
    "13) Transformers: Hugging face(Google)\n",
    "\n",
    "========== Google models ==========\n",
    "14) Some specific google packages\n",
    "\n",
    "========== Azure ML ==========\n",
    "15) Azure packages\n",
    "\n",
    "========== GenAI ==========\n",
    "16) GeminiAI: Google\n",
    "17) ChatGPT : OpenAI\n",
    "\n",
    "========== LangChain ==========\n",
    "18) LangChain packages"
   ]
  },
  {
   "cell_type": "markdown",
   "id": "1e15e04f-6fa4-41b0-a114-1009d82909bc",
   "metadata": {},
   "source": [
    "#### (1Q) Create a data-frame using list:"
   ]
  },
  {
   "cell_type": "markdown",
   "id": "c46c0ab0-6965-4ce4-a830-47dd86bcc725",
   "metadata": {},
   "source": [
    "#### Step-1: \n",
    "- Create an empty dataframe"
   ]
  },
  {
   "cell_type": "code",
   "execution_count": 1,
   "id": "ce7b1466-cc49-4471-bcf2-4b91d3876905",
   "metadata": {},
   "outputs": [
    {
     "data": {
      "text/html": [
       "<div>\n",
       "<style scoped>\n",
       "    .dataframe tbody tr th:only-of-type {\n",
       "        vertical-align: middle;\n",
       "    }\n",
       "\n",
       "    .dataframe tbody tr th {\n",
       "        vertical-align: top;\n",
       "    }\n",
       "\n",
       "    .dataframe thead th {\n",
       "        text-align: right;\n",
       "    }\n",
       "</style>\n",
       "<table border=\"1\" class=\"dataframe\">\n",
       "  <thead>\n",
       "    <tr style=\"text-align: right;\">\n",
       "      <th></th>\n",
       "    </tr>\n",
       "  </thead>\n",
       "  <tbody>\n",
       "  </tbody>\n",
       "</table>\n",
       "</div>"
      ],
      "text/plain": [
       "Empty DataFrame\n",
       "Columns: []\n",
       "Index: []"
      ]
     },
     "execution_count": 1,
     "metadata": {},
     "output_type": "execute_result"
    }
   ],
   "source": [
    "import pandas as pd \n",
    "names=['Ayush', 'Avinash', 'Akash']\n",
    "pd.DataFrame()  # Empty data frame with no rows & no columns"
   ]
  },
  {
   "cell_type": "markdown",
   "id": "ade206a8-566f-4bd4-a8a3-d2d6b5911d27",
   "metadata": {},
   "source": [
    "#### Step-2: \n",
    "- Provide the data"
   ]
  },
  {
   "cell_type": "code",
   "execution_count": null,
   "id": "364262e7-49e6-4c15-950a-134d8e8d4392",
   "metadata": {},
   "outputs": [],
   "source": [
    "names=['Ayush', 'Avinash', 'Akash']\n",
    "age=[24,27,25]\n",
    "pd.DataFrame(names,age)\n",
    "\n",
    "# Since we need two columns for two lists,but here with in the same column both the lists are given,\n",
    "#Enter shift+Tab inside parenthesis of .DataFrame()\n",
    "#1st variable indicates the data consideration for table then after 1st comma,\n",
    "#2nd variable is for indexes consideration then after 2nd comma,\n",
    "#3rd variable is for columns consideration\n",
    "# SO in the above 'pd.DataFrame(names,age)'\n",
    "# names is considered as data of the table ---> (which is totally fine)\n",
    "# But \"age\" is also considered as the data for Table rather than index consideration"
   ]
  },
  {
   "cell_type": "code",
   "execution_count": null,
   "id": "c2ea04b6-b3a4-4aaf-8f20-0fcf29c32e3f",
   "metadata": {},
   "outputs": [],
   "source": [
    "#Enter shift+Tab inside parenthesis of .DataFrame()\n",
    "\n",
    "Init signature:\n",
    "pd.DataFrame(\n",
    "    data=None,                      --> 1st place is for 'data' only\n",
    "    index: 'Axes | None' = None,    --> 2nd place os for 'index' only\n",
    "    columns: 'Axes | None' = None,  -->  3rd place is reserved for 'column_names' only\n",
    "    dtype: 'Dtype | None' = None,\n",
    "    copy: 'bool | None' = None,\n",
    ") -> 'None'"
   ]
  },
  {
   "cell_type": "code",
   "execution_count": 2,
   "id": "7f671668-9e43-4084-81f5-ce6aecd268d1",
   "metadata": {},
   "outputs": [
    {
     "data": {
      "text/html": [
       "<div>\n",
       "<style scoped>\n",
       "    .dataframe tbody tr th:only-of-type {\n",
       "        vertical-align: middle;\n",
       "    }\n",
       "\n",
       "    .dataframe tbody tr th {\n",
       "        vertical-align: top;\n",
       "    }\n",
       "\n",
       "    .dataframe thead th {\n",
       "        text-align: right;\n",
       "    }\n",
       "</style>\n",
       "<table border=\"1\" class=\"dataframe\">\n",
       "  <thead>\n",
       "    <tr style=\"text-align: right;\">\n",
       "      <th></th>\n",
       "      <th>0</th>\n",
       "      <th>1</th>\n",
       "    </tr>\n",
       "  </thead>\n",
       "  <tbody>\n",
       "    <tr>\n",
       "      <th>0</th>\n",
       "      <td>Ayush</td>\n",
       "      <td>24</td>\n",
       "    </tr>\n",
       "    <tr>\n",
       "      <th>1</th>\n",
       "      <td>Avinash</td>\n",
       "      <td>27</td>\n",
       "    </tr>\n",
       "    <tr>\n",
       "      <th>2</th>\n",
       "      <td>Akash</td>\n",
       "      <td>25</td>\n",
       "    </tr>\n",
       "  </tbody>\n",
       "</table>\n",
       "</div>"
      ],
      "text/plain": [
       "         0   1\n",
       "0    Ayush  24\n",
       "1  Avinash  27\n",
       "2    Akash  25"
      ]
     },
     "execution_count": 2,
     "metadata": {},
     "output_type": "execute_result"
    }
   ],
   "source": [
    "names=['Ayush', 'Avinash', 'Akash']\n",
    "age=[24,27,25]\n",
    "pd.DataFrame(zip(names,age))\n",
    "\n",
    "# To overcome from the problem faced in previous we need to use 'zip'\n",
    "# 'zip': in order to indicate that variables mentioned inside zip() must be considered as data of the table"
   ]
  },
  {
   "cell_type": "code",
   "execution_count": 3,
   "id": "3884256e-8617-42bd-b718-db02a872b986",
   "metadata": {},
   "outputs": [
    {
     "data": {
      "text/html": [
       "<div>\n",
       "<style scoped>\n",
       "    .dataframe tbody tr th:only-of-type {\n",
       "        vertical-align: middle;\n",
       "    }\n",
       "\n",
       "    .dataframe tbody tr th {\n",
       "        vertical-align: top;\n",
       "    }\n",
       "\n",
       "    .dataframe thead th {\n",
       "        text-align: right;\n",
       "    }\n",
       "</style>\n",
       "<table border=\"1\" class=\"dataframe\">\n",
       "  <thead>\n",
       "    <tr style=\"text-align: right;\">\n",
       "      <th></th>\n",
       "      <th>0</th>\n",
       "      <th>1</th>\n",
       "      <th>2</th>\n",
       "    </tr>\n",
       "  </thead>\n",
       "  <tbody>\n",
       "    <tr>\n",
       "      <th>0</th>\n",
       "      <td>Ayush</td>\n",
       "      <td>24</td>\n",
       "      <td>Hyd</td>\n",
       "    </tr>\n",
       "    <tr>\n",
       "      <th>1</th>\n",
       "      <td>Avinash</td>\n",
       "      <td>27</td>\n",
       "      <td>Blr</td>\n",
       "    </tr>\n",
       "    <tr>\n",
       "      <th>2</th>\n",
       "      <td>Akash</td>\n",
       "      <td>25</td>\n",
       "      <td>Klkt</td>\n",
       "    </tr>\n",
       "  </tbody>\n",
       "</table>\n",
       "</div>"
      ],
      "text/plain": [
       "         0   1     2\n",
       "0    Ayush  24   Hyd\n",
       "1  Avinash  27   Blr\n",
       "2    Akash  25  Klkt"
      ]
     },
     "execution_count": 3,
     "metadata": {},
     "output_type": "execute_result"
    }
   ],
   "source": [
    "names=['Ayush', 'Avinash', 'Akash']\n",
    "age=[24,27,25]\n",
    "city=['Hyd','Blr','Klkt']\n",
    "pd.DataFrame(zip(names,age,city))"
   ]
  },
  {
   "cell_type": "markdown",
   "id": "3c9f9e0b-0821-4c96-b275-44f3f2f87281",
   "metadata": {},
   "source": [
    "#### Step-3:\n",
    "\n",
    "- Providing the indexes"
   ]
  },
  {
   "cell_type": "code",
   "execution_count": 4,
   "id": "a35f09ab-5caf-4141-bbb3-acf51d8d30df",
   "metadata": {},
   "outputs": [
    {
     "data": {
      "text/html": [
       "<div>\n",
       "<style scoped>\n",
       "    .dataframe tbody tr th:only-of-type {\n",
       "        vertical-align: middle;\n",
       "    }\n",
       "\n",
       "    .dataframe tbody tr th {\n",
       "        vertical-align: top;\n",
       "    }\n",
       "\n",
       "    .dataframe thead th {\n",
       "        text-align: right;\n",
       "    }\n",
       "</style>\n",
       "<table border=\"1\" class=\"dataframe\">\n",
       "  <thead>\n",
       "    <tr style=\"text-align: right;\">\n",
       "      <th></th>\n",
       "      <th>0</th>\n",
       "      <th>1</th>\n",
       "      <th>2</th>\n",
       "    </tr>\n",
       "  </thead>\n",
       "  <tbody>\n",
       "    <tr>\n",
       "      <th>1</th>\n",
       "      <td>Ayush</td>\n",
       "      <td>24</td>\n",
       "      <td>Hyd</td>\n",
       "    </tr>\n",
       "    <tr>\n",
       "      <th>2</th>\n",
       "      <td>Avinash</td>\n",
       "      <td>27</td>\n",
       "      <td>Blr</td>\n",
       "    </tr>\n",
       "    <tr>\n",
       "      <th>3</th>\n",
       "      <td>Akash</td>\n",
       "      <td>25</td>\n",
       "      <td>Klkt</td>\n",
       "    </tr>\n",
       "  </tbody>\n",
       "</table>\n",
       "</div>"
      ],
      "text/plain": [
       "         0   1     2\n",
       "1    Ayush  24   Hyd\n",
       "2  Avinash  27   Blr\n",
       "3    Akash  25  Klkt"
      ]
     },
     "execution_count": 4,
     "metadata": {},
     "output_type": "execute_result"
    }
   ],
   "source": [
    "names=['Ayush', 'Avinash', 'Akash']\n",
    "age=[24,27,25]\n",
    "city=['Hyd','Blr','Klkt']\n",
    "pd.DataFrame(zip(names,age,city),index=[1,2,3])"
   ]
  },
  {
   "cell_type": "markdown",
   "id": "79d52a55-580a-4d85-9b27-79909eb25dd9",
   "metadata": {},
   "source": [
    "#### Step-4:\n",
    "- Providing the column names"
   ]
  },
  {
   "cell_type": "code",
   "execution_count": 5,
   "id": "51678271-cc73-46e7-a1e5-87f13bd173bb",
   "metadata": {},
   "outputs": [
    {
     "data": {
      "text/html": [
       "<div>\n",
       "<style scoped>\n",
       "    .dataframe tbody tr th:only-of-type {\n",
       "        vertical-align: middle;\n",
       "    }\n",
       "\n",
       "    .dataframe tbody tr th {\n",
       "        vertical-align: top;\n",
       "    }\n",
       "\n",
       "    .dataframe thead th {\n",
       "        text-align: right;\n",
       "    }\n",
       "</style>\n",
       "<table border=\"1\" class=\"dataframe\">\n",
       "  <thead>\n",
       "    <tr style=\"text-align: right;\">\n",
       "      <th></th>\n",
       "      <th>Names</th>\n",
       "      <th>Age</th>\n",
       "      <th>City</th>\n",
       "    </tr>\n",
       "  </thead>\n",
       "  <tbody>\n",
       "    <tr>\n",
       "      <th>1</th>\n",
       "      <td>Ayush</td>\n",
       "      <td>24</td>\n",
       "      <td>Hyd</td>\n",
       "    </tr>\n",
       "    <tr>\n",
       "      <th>2</th>\n",
       "      <td>Avinash</td>\n",
       "      <td>27</td>\n",
       "      <td>Blr</td>\n",
       "    </tr>\n",
       "    <tr>\n",
       "      <th>3</th>\n",
       "      <td>Akash</td>\n",
       "      <td>25</td>\n",
       "      <td>Klkt</td>\n",
       "    </tr>\n",
       "  </tbody>\n",
       "</table>\n",
       "</div>"
      ],
      "text/plain": [
       "     Names  Age  City\n",
       "1    Ayush   24   Hyd\n",
       "2  Avinash   27   Blr\n",
       "3    Akash   25  Klkt"
      ]
     },
     "execution_count": 5,
     "metadata": {},
     "output_type": "execute_result"
    }
   ],
   "source": [
    "names=['Ayush', 'Avinash', 'Akash']\n",
    "age=[24,27,25]\n",
    "city=['Hyd','Blr','Klkt']\n",
    "pd.DataFrame(zip(names,age,city),index=[1,2,3],columns=['Names','Age','City'])"
   ]
  },
  {
   "cell_type": "markdown",
   "id": "98d70afe-aced-47d7-94e3-ee681b264719",
   "metadata": {},
   "source": [
    "#### Practise:\n",
    "- With a good approach"
   ]
  },
  {
   "cell_type": "code",
   "execution_count": 6,
   "id": "4d42f4b7-a753-4af4-9b95-b14748d2d184",
   "metadata": {},
   "outputs": [
    {
     "data": {
      "text/html": [
       "<div>\n",
       "<style scoped>\n",
       "    .dataframe tbody tr th:only-of-type {\n",
       "        vertical-align: middle;\n",
       "    }\n",
       "\n",
       "    .dataframe tbody tr th {\n",
       "        vertical-align: top;\n",
       "    }\n",
       "\n",
       "    .dataframe thead th {\n",
       "        text-align: right;\n",
       "    }\n",
       "</style>\n",
       "<table border=\"1\" class=\"dataframe\">\n",
       "  <thead>\n",
       "    <tr style=\"text-align: right;\">\n",
       "      <th></th>\n",
       "      <th>Names</th>\n",
       "      <th>Age</th>\n",
       "      <th>City</th>\n",
       "    </tr>\n",
       "  </thead>\n",
       "  <tbody>\n",
       "    <tr>\n",
       "      <th>1</th>\n",
       "      <td>Amer</td>\n",
       "      <td>20</td>\n",
       "      <td>Hyd</td>\n",
       "    </tr>\n",
       "    <tr>\n",
       "      <th>2</th>\n",
       "      <td>Zaid</td>\n",
       "      <td>9</td>\n",
       "      <td>Hyd</td>\n",
       "    </tr>\n",
       "    <tr>\n",
       "      <th>3</th>\n",
       "      <td>Shajie</td>\n",
       "      <td>21</td>\n",
       "      <td>Hyd</td>\n",
       "    </tr>\n",
       "  </tbody>\n",
       "</table>\n",
       "</div>"
      ],
      "text/plain": [
       "    Names Age City\n",
       "1    Amer  20  Hyd\n",
       "2    Zaid   9  Hyd\n",
       "3  Shajie  21  Hyd"
      ]
     },
     "execution_count": 6,
     "metadata": {},
     "output_type": "execute_result"
    }
   ],
   "source": [
    "names=['Amer','Zaid','Shajie']\n",
    "age=['20','9','21']\n",
    "city=['Hyd','Hyd','Hyd']\n",
    "\n",
    "data=zip(names,age,city)\n",
    "indx=[1,2,3]\n",
    "cols=['Names','Age','City']\n",
    "\n",
    "df=pd.DataFrame(data,indx,cols)\n",
    "df"
   ]
  },
  {
   "cell_type": "markdown",
   "id": "55a74c98-837e-47dc-bf78-cd9478e14460",
   "metadata": {},
   "source": [
    "#### Step-5\n",
    "\n",
    "- Add a new column\n",
    "- If you wanna add a new column, first you need to check the number of rows in already existing data\n",
    "- For example in above dataframe, it has 3 rows\n",
    "- Yo need to create a new list with 3 rows\n",
    "- That list equate to the dataframe"
   ]
  },
  {
   "cell_type": "code",
   "execution_count": 7,
   "id": "3094b817-76d6-4071-b891-bafe3a4307b2",
   "metadata": {},
   "outputs": [
    {
     "data": {
      "text/html": [
       "<div>\n",
       "<style scoped>\n",
       "    .dataframe tbody tr th:only-of-type {\n",
       "        vertical-align: middle;\n",
       "    }\n",
       "\n",
       "    .dataframe tbody tr th {\n",
       "        vertical-align: top;\n",
       "    }\n",
       "\n",
       "    .dataframe thead th {\n",
       "        text-align: right;\n",
       "    }\n",
       "</style>\n",
       "<table border=\"1\" class=\"dataframe\">\n",
       "  <thead>\n",
       "    <tr style=\"text-align: right;\">\n",
       "      <th></th>\n",
       "      <th>Names</th>\n",
       "      <th>Age</th>\n",
       "      <th>City</th>\n",
       "      <th>Designation</th>\n",
       "    </tr>\n",
       "  </thead>\n",
       "  <tbody>\n",
       "    <tr>\n",
       "      <th>1</th>\n",
       "      <td>Amer</td>\n",
       "      <td>20</td>\n",
       "      <td>Hyd</td>\n",
       "      <td>Data Scientist</td>\n",
       "    </tr>\n",
       "    <tr>\n",
       "      <th>2</th>\n",
       "      <td>Zaid</td>\n",
       "      <td>9</td>\n",
       "      <td>Hyd</td>\n",
       "      <td>Data Engg</td>\n",
       "    </tr>\n",
       "    <tr>\n",
       "      <th>3</th>\n",
       "      <td>Shajie</td>\n",
       "      <td>21</td>\n",
       "      <td>Hyd</td>\n",
       "      <td>Data Analyst</td>\n",
       "    </tr>\n",
       "  </tbody>\n",
       "</table>\n",
       "</div>"
      ],
      "text/plain": [
       "    Names Age City     Designation\n",
       "1    Amer  20  Hyd  Data Scientist\n",
       "2    Zaid   9  Hyd       Data Engg\n",
       "3  Shajie  21  Hyd    Data Analyst"
      ]
     },
     "execution_count": 7,
     "metadata": {},
     "output_type": "execute_result"
    }
   ],
   "source": [
    "designation=['Data Scientist','Data Engg','Data Analyst'] \n",
    "df['Designation']=designation\n",
    "df"
   ]
  },
  {
   "cell_type": "markdown",
   "id": "37985fd3-aacc-4a71-b343-9d148d9f0098",
   "metadata": {},
   "source": [
    "#### Step-6:\n",
    "- Update the already existing columns"
   ]
  },
  {
   "cell_type": "code",
   "execution_count": 8,
   "id": "7c91cbd7-678e-424e-80fc-0ab5b4d8de81",
   "metadata": {},
   "outputs": [
    {
     "data": {
      "text/html": [
       "<div>\n",
       "<style scoped>\n",
       "    .dataframe tbody tr th:only-of-type {\n",
       "        vertical-align: middle;\n",
       "    }\n",
       "\n",
       "    .dataframe tbody tr th {\n",
       "        vertical-align: top;\n",
       "    }\n",
       "\n",
       "    .dataframe thead th {\n",
       "        text-align: right;\n",
       "    }\n",
       "</style>\n",
       "<table border=\"1\" class=\"dataframe\">\n",
       "  <thead>\n",
       "    <tr style=\"text-align: right;\">\n",
       "      <th></th>\n",
       "      <th>Names</th>\n",
       "      <th>Age</th>\n",
       "      <th>City</th>\n",
       "      <th>Designation</th>\n",
       "    </tr>\n",
       "  </thead>\n",
       "  <tbody>\n",
       "    <tr>\n",
       "      <th>1</th>\n",
       "      <td>Amer</td>\n",
       "      <td>32</td>\n",
       "      <td>Hyd</td>\n",
       "      <td>Data Scientist</td>\n",
       "    </tr>\n",
       "    <tr>\n",
       "      <th>2</th>\n",
       "      <td>Zaid</td>\n",
       "      <td>22</td>\n",
       "      <td>Hyd</td>\n",
       "      <td>Data Engg</td>\n",
       "    </tr>\n",
       "    <tr>\n",
       "      <th>3</th>\n",
       "      <td>Shajie</td>\n",
       "      <td>33</td>\n",
       "      <td>Hyd</td>\n",
       "      <td>Data Analyst</td>\n",
       "    </tr>\n",
       "  </tbody>\n",
       "</table>\n",
       "</div>"
      ],
      "text/plain": [
       "    Names  Age City     Designation\n",
       "1    Amer   32  Hyd  Data Scientist\n",
       "2    Zaid   22  Hyd       Data Engg\n",
       "3  Shajie   33  Hyd    Data Analyst"
      ]
     },
     "execution_count": 8,
     "metadata": {},
     "output_type": "execute_result"
    }
   ],
   "source": [
    "df['Age']=[32,22,33]\n",
    "df"
   ]
  },
  {
   "cell_type": "markdown",
   "id": "edbdc5ea-5f24-4e3a-b82a-088379681eed",
   "metadata": {},
   "source": [
    "#### Note:\n",
    "- \"Number of list\" must be equal to \"Number of Columns\"\n",
    "- \"Number of values\" must be equal to \"Number of Rows\"    "
   ]
  },
  {
   "cell_type": "markdown",
   "id": "e1c20e95-dfcd-4ddf-af4c-f98c5ba3a721",
   "metadata": {},
   "source": [
    "#### Step-7\n",
    "\n",
    "**shape**\n",
    "- Number of rows \n",
    "- Number of columns"
   ]
  },
  {
   "cell_type": "code",
   "execution_count": 9,
   "id": "a506343c-3a45-4b17-a16c-40379c364288",
   "metadata": {},
   "outputs": [
    {
     "name": "stdout",
     "output_type": "stream",
     "text": [
      "The number of rows are: 3\n",
      "The number of columns are: 4\n"
     ]
    }
   ],
   "source": [
    "df.shape\n",
    "\n",
    "# Matrix format\n",
    "# 3 rows & 4 columns\n",
    "# '0' means rows\n",
    "# '1' means columns\n",
    "\n",
    "print(\"The number of rows are:\",df.shape[0])\n",
    "print(\"The number of columns are:\",df.shape[1])"
   ]
  },
  {
   "cell_type": "markdown",
   "id": "cc25a9bc-bd05-4c0b-98a6-7d04c6d6c6dc",
   "metadata": {},
   "source": [
    "#### Step-8:\n",
    "**Drop the column:**\n",
    "    - In order to drop column we required 3 arguments\n",
    "\n",
    "- **Column name** \n",
    "    - The column name we need to mention\n",
    "\n",
    "- **axis**\n",
    "    - axis=0 **represents rows** \n",
    "    - axis=1  **represents columns**\n",
    "\n",
    "- **inplace** \n",
    "    - we are dropping columns means we are modifing the data frame \n",
    "    - so this modifications we wanna save in same variable or different variable\n",
    "    - If you wanna keep in the same variable the **inplace=True**"
   ]
  },
  {
   "cell_type": "code",
   "execution_count": 10,
   "id": "2a771a28-5e5d-43e5-b6c0-efc70941c845",
   "metadata": {},
   "outputs": [
    {
     "data": {
      "text/html": [
       "<div>\n",
       "<style scoped>\n",
       "    .dataframe tbody tr th:only-of-type {\n",
       "        vertical-align: middle;\n",
       "    }\n",
       "\n",
       "    .dataframe tbody tr th {\n",
       "        vertical-align: top;\n",
       "    }\n",
       "\n",
       "    .dataframe thead th {\n",
       "        text-align: right;\n",
       "    }\n",
       "</style>\n",
       "<table border=\"1\" class=\"dataframe\">\n",
       "  <thead>\n",
       "    <tr style=\"text-align: right;\">\n",
       "      <th></th>\n",
       "      <th>Names</th>\n",
       "      <th>Age</th>\n",
       "      <th>City</th>\n",
       "      <th>Designation</th>\n",
       "    </tr>\n",
       "  </thead>\n",
       "  <tbody>\n",
       "    <tr>\n",
       "      <th>1</th>\n",
       "      <td>Amer</td>\n",
       "      <td>32</td>\n",
       "      <td>Hyd</td>\n",
       "      <td>Data Scientist</td>\n",
       "    </tr>\n",
       "    <tr>\n",
       "      <th>2</th>\n",
       "      <td>Zaid</td>\n",
       "      <td>22</td>\n",
       "      <td>Hyd</td>\n",
       "      <td>Data Engg</td>\n",
       "    </tr>\n",
       "    <tr>\n",
       "      <th>3</th>\n",
       "      <td>Shajie</td>\n",
       "      <td>33</td>\n",
       "      <td>Hyd</td>\n",
       "      <td>Data Analyst</td>\n",
       "    </tr>\n",
       "  </tbody>\n",
       "</table>\n",
       "</div>"
      ],
      "text/plain": [
       "    Names  Age City     Designation\n",
       "1    Amer   32  Hyd  Data Scientist\n",
       "2    Zaid   22  Hyd       Data Engg\n",
       "3  Shajie   33  Hyd    Data Analyst"
      ]
     },
     "execution_count": 10,
     "metadata": {},
     "output_type": "execute_result"
    }
   ],
   "source": [
    "df"
   ]
  },
  {
   "cell_type": "code",
   "execution_count": 11,
   "id": "d052a599-38a1-448b-b653-530998c47fbf",
   "metadata": {},
   "outputs": [
    {
     "data": {
      "text/html": [
       "<div>\n",
       "<style scoped>\n",
       "    .dataframe tbody tr th:only-of-type {\n",
       "        vertical-align: middle;\n",
       "    }\n",
       "\n",
       "    .dataframe tbody tr th {\n",
       "        vertical-align: top;\n",
       "    }\n",
       "\n",
       "    .dataframe thead th {\n",
       "        text-align: right;\n",
       "    }\n",
       "</style>\n",
       "<table border=\"1\" class=\"dataframe\">\n",
       "  <thead>\n",
       "    <tr style=\"text-align: right;\">\n",
       "      <th></th>\n",
       "      <th>Names</th>\n",
       "      <th>Age</th>\n",
       "      <th>Designation</th>\n",
       "    </tr>\n",
       "  </thead>\n",
       "  <tbody>\n",
       "    <tr>\n",
       "      <th>1</th>\n",
       "      <td>Amer</td>\n",
       "      <td>32</td>\n",
       "      <td>Data Scientist</td>\n",
       "    </tr>\n",
       "    <tr>\n",
       "      <th>2</th>\n",
       "      <td>Zaid</td>\n",
       "      <td>22</td>\n",
       "      <td>Data Engg</td>\n",
       "    </tr>\n",
       "    <tr>\n",
       "      <th>3</th>\n",
       "      <td>Shajie</td>\n",
       "      <td>33</td>\n",
       "      <td>Data Analyst</td>\n",
       "    </tr>\n",
       "  </tbody>\n",
       "</table>\n",
       "</div>"
      ],
      "text/plain": [
       "    Names  Age     Designation\n",
       "1    Amer   32  Data Scientist\n",
       "2    Zaid   22       Data Engg\n",
       "3  Shajie   33    Data Analyst"
      ]
     },
     "execution_count": 11,
     "metadata": {},
     "output_type": "execute_result"
    }
   ],
   "source": [
    "df.drop('City',axis=1,inplace=True)\n",
    "df"
   ]
  },
  {
   "cell_type": "code",
   "execution_count": 12,
   "id": "9bec249b-a930-4633-b973-8df63b84db05",
   "metadata": {},
   "outputs": [
    {
     "data": {
      "text/html": [
       "<div>\n",
       "<style scoped>\n",
       "    .dataframe tbody tr th:only-of-type {\n",
       "        vertical-align: middle;\n",
       "    }\n",
       "\n",
       "    .dataframe tbody tr th {\n",
       "        vertical-align: top;\n",
       "    }\n",
       "\n",
       "    .dataframe thead th {\n",
       "        text-align: right;\n",
       "    }\n",
       "</style>\n",
       "<table border=\"1\" class=\"dataframe\">\n",
       "  <thead>\n",
       "    <tr style=\"text-align: right;\">\n",
       "      <th></th>\n",
       "      <th>Names</th>\n",
       "      <th>Age</th>\n",
       "    </tr>\n",
       "  </thead>\n",
       "  <tbody>\n",
       "    <tr>\n",
       "      <th>1</th>\n",
       "      <td>Amer</td>\n",
       "      <td>32</td>\n",
       "    </tr>\n",
       "    <tr>\n",
       "      <th>2</th>\n",
       "      <td>Zaid</td>\n",
       "      <td>22</td>\n",
       "    </tr>\n",
       "    <tr>\n",
       "      <th>3</th>\n",
       "      <td>Shajie</td>\n",
       "      <td>33</td>\n",
       "    </tr>\n",
       "  </tbody>\n",
       "</table>\n",
       "</div>"
      ],
      "text/plain": [
       "    Names  Age\n",
       "1    Amer   32\n",
       "2    Zaid   22\n",
       "3  Shajie   33"
      ]
     },
     "execution_count": 12,
     "metadata": {},
     "output_type": "execute_result"
    }
   ],
   "source": [
    "df1=df.drop('Designation',axis=1)\n",
    "df1"
   ]
  },
  {
   "cell_type": "code",
   "execution_count": 13,
   "id": "a4bc40c2-137c-4ea3-ad07-450404ff36cb",
   "metadata": {},
   "outputs": [
    {
     "data": {
      "text/html": [
       "<div>\n",
       "<style scoped>\n",
       "    .dataframe tbody tr th:only-of-type {\n",
       "        vertical-align: middle;\n",
       "    }\n",
       "\n",
       "    .dataframe tbody tr th {\n",
       "        vertical-align: top;\n",
       "    }\n",
       "\n",
       "    .dataframe thead th {\n",
       "        text-align: right;\n",
       "    }\n",
       "</style>\n",
       "<table border=\"1\" class=\"dataframe\">\n",
       "  <thead>\n",
       "    <tr style=\"text-align: right;\">\n",
       "      <th></th>\n",
       "      <th>Names</th>\n",
       "      <th>Age</th>\n",
       "      <th>Designation</th>\n",
       "    </tr>\n",
       "  </thead>\n",
       "  <tbody>\n",
       "    <tr>\n",
       "      <th>1</th>\n",
       "      <td>Amer</td>\n",
       "      <td>32</td>\n",
       "      <td>Data Scientist</td>\n",
       "    </tr>\n",
       "    <tr>\n",
       "      <th>2</th>\n",
       "      <td>Zaid</td>\n",
       "      <td>22</td>\n",
       "      <td>Data Engg</td>\n",
       "    </tr>\n",
       "    <tr>\n",
       "      <th>3</th>\n",
       "      <td>Shajie</td>\n",
       "      <td>33</td>\n",
       "      <td>Data Analyst</td>\n",
       "    </tr>\n",
       "  </tbody>\n",
       "</table>\n",
       "</div>"
      ],
      "text/plain": [
       "    Names  Age     Designation\n",
       "1    Amer   32  Data Scientist\n",
       "2    Zaid   22       Data Engg\n",
       "3  Shajie   33    Data Analyst"
      ]
     },
     "execution_count": 13,
     "metadata": {},
     "output_type": "execute_result"
    }
   ],
   "source": [
    "df"
   ]
  },
  {
   "cell_type": "markdown",
   "id": "213c21b7-dee9-4b01-b129-d2f56398a46c",
   "metadata": {},
   "source": [
    "#### Step-9:\n",
    "- Dropping multiple columns"
   ]
  },
  {
   "cell_type": "code",
   "execution_count": 14,
   "id": "c6f4f658-bcf0-493a-ab02-1b326a9aecea",
   "metadata": {},
   "outputs": [
    {
     "data": {
      "text/html": [
       "<div>\n",
       "<style scoped>\n",
       "    .dataframe tbody tr th:only-of-type {\n",
       "        vertical-align: middle;\n",
       "    }\n",
       "\n",
       "    .dataframe tbody tr th {\n",
       "        vertical-align: top;\n",
       "    }\n",
       "\n",
       "    .dataframe thead th {\n",
       "        text-align: right;\n",
       "    }\n",
       "</style>\n",
       "<table border=\"1\" class=\"dataframe\">\n",
       "  <thead>\n",
       "    <tr style=\"text-align: right;\">\n",
       "      <th></th>\n",
       "      <th>Names</th>\n",
       "      <th>Age</th>\n",
       "      <th>Designation</th>\n",
       "    </tr>\n",
       "  </thead>\n",
       "  <tbody>\n",
       "    <tr>\n",
       "      <th>1</th>\n",
       "      <td>Amer</td>\n",
       "      <td>32</td>\n",
       "      <td>Data Scientist</td>\n",
       "    </tr>\n",
       "    <tr>\n",
       "      <th>2</th>\n",
       "      <td>Zaid</td>\n",
       "      <td>22</td>\n",
       "      <td>Data Engg</td>\n",
       "    </tr>\n",
       "    <tr>\n",
       "      <th>3</th>\n",
       "      <td>Shajie</td>\n",
       "      <td>33</td>\n",
       "      <td>Data Analyst</td>\n",
       "    </tr>\n",
       "  </tbody>\n",
       "</table>\n",
       "</div>"
      ],
      "text/plain": [
       "    Names  Age     Designation\n",
       "1    Amer   32  Data Scientist\n",
       "2    Zaid   22       Data Engg\n",
       "3  Shajie   33    Data Analyst"
      ]
     },
     "execution_count": 14,
     "metadata": {},
     "output_type": "execute_result"
    }
   ],
   "source": [
    "df"
   ]
  },
  {
   "cell_type": "code",
   "execution_count": 15,
   "id": "d98b59d6-66cb-40d4-a1e3-386f51250ba1",
   "metadata": {},
   "outputs": [
    {
     "data": {
      "text/html": [
       "<div>\n",
       "<style scoped>\n",
       "    .dataframe tbody tr th:only-of-type {\n",
       "        vertical-align: middle;\n",
       "    }\n",
       "\n",
       "    .dataframe tbody tr th {\n",
       "        vertical-align: top;\n",
       "    }\n",
       "\n",
       "    .dataframe thead th {\n",
       "        text-align: right;\n",
       "    }\n",
       "</style>\n",
       "<table border=\"1\" class=\"dataframe\">\n",
       "  <thead>\n",
       "    <tr style=\"text-align: right;\">\n",
       "      <th></th>\n",
       "      <th>Names</th>\n",
       "    </tr>\n",
       "  </thead>\n",
       "  <tbody>\n",
       "    <tr>\n",
       "      <th>1</th>\n",
       "      <td>Amer</td>\n",
       "    </tr>\n",
       "    <tr>\n",
       "      <th>2</th>\n",
       "      <td>Zaid</td>\n",
       "    </tr>\n",
       "    <tr>\n",
       "      <th>3</th>\n",
       "      <td>Shajie</td>\n",
       "    </tr>\n",
       "  </tbody>\n",
       "</table>\n",
       "</div>"
      ],
      "text/plain": [
       "    Names\n",
       "1    Amer\n",
       "2    Zaid\n",
       "3  Shajie"
      ]
     },
     "execution_count": 15,
     "metadata": {},
     "output_type": "execute_result"
    }
   ],
   "source": [
    "df.drop(['Age','Designation'],axis=1,inplace=True)\n",
    "df"
   ]
  },
  {
   "cell_type": "markdown",
   "id": "ffde0017-fd9a-421d-9083-83481560d3e3",
   "metadata": {},
   "source": [
    "#### Step-10:\n",
    "- Dropping the rows"
   ]
  },
  {
   "cell_type": "code",
   "execution_count": 16,
   "id": "84128ab8-5ada-496d-a626-52e0566aef5a",
   "metadata": {},
   "outputs": [
    {
     "data": {
      "text/html": [
       "<div>\n",
       "<style scoped>\n",
       "    .dataframe tbody tr th:only-of-type {\n",
       "        vertical-align: middle;\n",
       "    }\n",
       "\n",
       "    .dataframe tbody tr th {\n",
       "        vertical-align: top;\n",
       "    }\n",
       "\n",
       "    .dataframe thead th {\n",
       "        text-align: right;\n",
       "    }\n",
       "</style>\n",
       "<table border=\"1\" class=\"dataframe\">\n",
       "  <thead>\n",
       "    <tr style=\"text-align: right;\">\n",
       "      <th></th>\n",
       "      <th>Names</th>\n",
       "    </tr>\n",
       "  </thead>\n",
       "  <tbody>\n",
       "    <tr>\n",
       "      <th>1</th>\n",
       "      <td>Amer</td>\n",
       "    </tr>\n",
       "    <tr>\n",
       "      <th>2</th>\n",
       "      <td>Zaid</td>\n",
       "    </tr>\n",
       "    <tr>\n",
       "      <th>3</th>\n",
       "      <td>Shajie</td>\n",
       "    </tr>\n",
       "  </tbody>\n",
       "</table>\n",
       "</div>"
      ],
      "text/plain": [
       "    Names\n",
       "1    Amer\n",
       "2    Zaid\n",
       "3  Shajie"
      ]
     },
     "execution_count": 16,
     "metadata": {},
     "output_type": "execute_result"
    }
   ],
   "source": [
    "df"
   ]
  },
  {
   "cell_type": "code",
   "execution_count": 17,
   "id": "a50857ac-0802-4d97-9c81-1784c055a826",
   "metadata": {},
   "outputs": [
    {
     "data": {
      "text/html": [
       "<div>\n",
       "<style scoped>\n",
       "    .dataframe tbody tr th:only-of-type {\n",
       "        vertical-align: middle;\n",
       "    }\n",
       "\n",
       "    .dataframe tbody tr th {\n",
       "        vertical-align: top;\n",
       "    }\n",
       "\n",
       "    .dataframe thead th {\n",
       "        text-align: right;\n",
       "    }\n",
       "</style>\n",
       "<table border=\"1\" class=\"dataframe\">\n",
       "  <thead>\n",
       "    <tr style=\"text-align: right;\">\n",
       "      <th></th>\n",
       "      <th>Name</th>\n",
       "      <th>Age</th>\n",
       "      <th>City</th>\n",
       "      <th>Designation</th>\n",
       "    </tr>\n",
       "  </thead>\n",
       "  <tbody>\n",
       "    <tr>\n",
       "      <th>1</th>\n",
       "      <td>Amer</td>\n",
       "      <td>32</td>\n",
       "      <td>Hyd</td>\n",
       "      <td>Data Scientist</td>\n",
       "    </tr>\n",
       "    <tr>\n",
       "      <th>2</th>\n",
       "      <td>Zaid</td>\n",
       "      <td>22</td>\n",
       "      <td>Hyd</td>\n",
       "      <td>Data Engg</td>\n",
       "    </tr>\n",
       "    <tr>\n",
       "      <th>3</th>\n",
       "      <td>Shajie</td>\n",
       "      <td>33</td>\n",
       "      <td>Blr</td>\n",
       "      <td>Data Analyst</td>\n",
       "    </tr>\n",
       "  </tbody>\n",
       "</table>\n",
       "</div>"
      ],
      "text/plain": [
       "     Name  Age City     Designation\n",
       "1    Amer   32  Hyd  Data Scientist\n",
       "2    Zaid   22  Hyd       Data Engg\n",
       "3  Shajie   33  Blr    Data Analyst"
      ]
     },
     "execution_count": 17,
     "metadata": {},
     "output_type": "execute_result"
    }
   ],
   "source": [
    "# Reading the data from initial point:\n",
    "import pandas as pd\n",
    "names=['Amer','Zaid','Shajie']\n",
    "age=[32,22,33]\n",
    "city=['Hyd','Hyd','Blr']\n",
    "designation=['Data Scientist','Data Engg','Data Analyst']\n",
    "\n",
    "data=zip(names,age,city,designation)\n",
    "indx=[1,2,3]\n",
    "cols=['Name','Age','City','Designation']  \n",
    "\n",
    "df=pd.DataFrame(data,indx,cols)\n",
    "df"
   ]
  },
  {
   "cell_type": "code",
   "execution_count": 18,
   "id": "b554499b-2774-4b4e-a6e1-9ed34a4b31b4",
   "metadata": {},
   "outputs": [
    {
     "data": {
      "text/html": [
       "<div>\n",
       "<style scoped>\n",
       "    .dataframe tbody tr th:only-of-type {\n",
       "        vertical-align: middle;\n",
       "    }\n",
       "\n",
       "    .dataframe tbody tr th {\n",
       "        vertical-align: top;\n",
       "    }\n",
       "\n",
       "    .dataframe thead th {\n",
       "        text-align: right;\n",
       "    }\n",
       "</style>\n",
       "<table border=\"1\" class=\"dataframe\">\n",
       "  <thead>\n",
       "    <tr style=\"text-align: right;\">\n",
       "      <th></th>\n",
       "      <th>Name</th>\n",
       "      <th>Age</th>\n",
       "      <th>City</th>\n",
       "      <th>Designation</th>\n",
       "    </tr>\n",
       "  </thead>\n",
       "  <tbody>\n",
       "    <tr>\n",
       "      <th>2</th>\n",
       "      <td>Zaid</td>\n",
       "      <td>22</td>\n",
       "      <td>Hyd</td>\n",
       "      <td>Data Engg</td>\n",
       "    </tr>\n",
       "    <tr>\n",
       "      <th>3</th>\n",
       "      <td>Shajie</td>\n",
       "      <td>33</td>\n",
       "      <td>Blr</td>\n",
       "      <td>Data Analyst</td>\n",
       "    </tr>\n",
       "  </tbody>\n",
       "</table>\n",
       "</div>"
      ],
      "text/plain": [
       "     Name  Age City   Designation\n",
       "2    Zaid   22  Hyd     Data Engg\n",
       "3  Shajie   33  Blr  Data Analyst"
      ]
     },
     "execution_count": 18,
     "metadata": {},
     "output_type": "execute_result"
    }
   ],
   "source": [
    "df.drop(1,axis=0,inplace=True)\n",
    "df"
   ]
  },
  {
   "cell_type": "markdown",
   "id": "6181cdeb-d9e2-48e2-9f93-168b2de726a3",
   "metadata": {},
   "source": [
    "#### Step 11:\n",
    "**How to save the data frame**\n",
    "- Generally data frames are of two types\n",
    "- csv(comma seperated value)\n",
    "- excel"
   ]
  },
  {
   "cell_type": "code",
   "execution_count": 19,
   "id": "ae429e59-6dca-4d49-8b88-74a2a774fe51",
   "metadata": {},
   "outputs": [
    {
     "data": {
      "text/html": [
       "<div>\n",
       "<style scoped>\n",
       "    .dataframe tbody tr th:only-of-type {\n",
       "        vertical-align: middle;\n",
       "    }\n",
       "\n",
       "    .dataframe tbody tr th {\n",
       "        vertical-align: top;\n",
       "    }\n",
       "\n",
       "    .dataframe thead th {\n",
       "        text-align: right;\n",
       "    }\n",
       "</style>\n",
       "<table border=\"1\" class=\"dataframe\">\n",
       "  <thead>\n",
       "    <tr style=\"text-align: right;\">\n",
       "      <th></th>\n",
       "      <th>Name</th>\n",
       "      <th>Age</th>\n",
       "      <th>City</th>\n",
       "      <th>Designation</th>\n",
       "    </tr>\n",
       "  </thead>\n",
       "  <tbody>\n",
       "    <tr>\n",
       "      <th>2</th>\n",
       "      <td>Zaid</td>\n",
       "      <td>22</td>\n",
       "      <td>Hyd</td>\n",
       "      <td>Data Engg</td>\n",
       "    </tr>\n",
       "    <tr>\n",
       "      <th>3</th>\n",
       "      <td>Shajie</td>\n",
       "      <td>33</td>\n",
       "      <td>Blr</td>\n",
       "      <td>Data Analyst</td>\n",
       "    </tr>\n",
       "  </tbody>\n",
       "</table>\n",
       "</div>"
      ],
      "text/plain": [
       "     Name  Age City   Designation\n",
       "2    Zaid   22  Hyd     Data Engg\n",
       "3  Shajie   33  Blr  Data Analyst"
      ]
     },
     "execution_count": 19,
     "metadata": {},
     "output_type": "execute_result"
    }
   ],
   "source": [
    "df"
   ]
  },
  {
   "cell_type": "code",
   "execution_count": 20,
   "id": "d0af9d13-80d3-469f-8d76-534d2a088fef",
   "metadata": {},
   "outputs": [],
   "source": [
    "# file name=data\n",
    "# extension=.csv\n",
    "df.to_csv('data.csv') \n",
    "df.to_csv('data1.csv',index=False)  # indexes will get disappear in excel sheet"
   ]
  },
  {
   "cell_type": "code",
   "execution_count": 21,
   "id": "9349f274-67df-4d36-af4c-58fcb4d96c5b",
   "metadata": {},
   "outputs": [],
   "source": [
    "# Extension\n",
    "#.xlsx\n",
    "df.to_excel(\"data2.xlsx\",index=False)"
   ]
  },
  {
   "cell_type": "code",
   "execution_count": 22,
   "id": "be43c338-bb49-4cd4-a1bd-23adb84b09cb",
   "metadata": {},
   "outputs": [
    {
     "data": {
      "text/html": [
       "<div>\n",
       "<style scoped>\n",
       "    .dataframe tbody tr th:only-of-type {\n",
       "        vertical-align: middle;\n",
       "    }\n",
       "\n",
       "    .dataframe tbody tr th {\n",
       "        vertical-align: top;\n",
       "    }\n",
       "\n",
       "    .dataframe thead th {\n",
       "        text-align: right;\n",
       "    }\n",
       "</style>\n",
       "<table border=\"1\" class=\"dataframe\">\n",
       "  <thead>\n",
       "    <tr style=\"text-align: right;\">\n",
       "      <th></th>\n",
       "      <th>Name</th>\n",
       "      <th>Age</th>\n",
       "      <th>City</th>\n",
       "      <th>Designation</th>\n",
       "    </tr>\n",
       "  </thead>\n",
       "  <tbody>\n",
       "    <tr>\n",
       "      <th>2</th>\n",
       "      <td>Zaid</td>\n",
       "      <td>22</td>\n",
       "      <td>Hyd</td>\n",
       "      <td>Data Engg</td>\n",
       "    </tr>\n",
       "    <tr>\n",
       "      <th>3</th>\n",
       "      <td>Shajie</td>\n",
       "      <td>33</td>\n",
       "      <td>Blr</td>\n",
       "      <td>Data Analyst</td>\n",
       "    </tr>\n",
       "  </tbody>\n",
       "</table>\n",
       "</div>"
      ],
      "text/plain": [
       "     Name  Age City   Designation\n",
       "2    Zaid   22  Hyd     Data Engg\n",
       "3  Shajie   33  Blr  Data Analyst"
      ]
     },
     "execution_count": 22,
     "metadata": {},
     "output_type": "execute_result"
    }
   ],
   "source": [
    "df"
   ]
  },
  {
   "cell_type": "markdown",
   "id": "01f4b5de-54c2-4ee3-b15a-49bcd8e3febf",
   "metadata": {},
   "source": [
    "#### Running new data from initial point:"
   ]
  },
  {
   "cell_type": "code",
   "execution_count": 23,
   "id": "300ba7f7-8b85-4b81-8294-906992650dc9",
   "metadata": {},
   "outputs": [
    {
     "data": {
      "text/html": [
       "<div>\n",
       "<style scoped>\n",
       "    .dataframe tbody tr th:only-of-type {\n",
       "        vertical-align: middle;\n",
       "    }\n",
       "\n",
       "    .dataframe tbody tr th {\n",
       "        vertical-align: top;\n",
       "    }\n",
       "\n",
       "    .dataframe thead th {\n",
       "        text-align: right;\n",
       "    }\n",
       "</style>\n",
       "<table border=\"1\" class=\"dataframe\">\n",
       "  <thead>\n",
       "    <tr style=\"text-align: right;\">\n",
       "      <th></th>\n",
       "      <th>Name</th>\n",
       "      <th>Age</th>\n",
       "      <th>City</th>\n",
       "      <th>Country</th>\n",
       "      <th>Designation</th>\n",
       "    </tr>\n",
       "  </thead>\n",
       "  <tbody>\n",
       "    <tr>\n",
       "      <th>A</th>\n",
       "      <td>Amer</td>\n",
       "      <td>32</td>\n",
       "      <td>Hyd</td>\n",
       "      <td>India</td>\n",
       "      <td>Data Scientist</td>\n",
       "    </tr>\n",
       "    <tr>\n",
       "      <th>B</th>\n",
       "      <td>Zaid</td>\n",
       "      <td>22</td>\n",
       "      <td>Riyadh</td>\n",
       "      <td>Saudi_Arabia</td>\n",
       "      <td>Data Engg</td>\n",
       "    </tr>\n",
       "    <tr>\n",
       "      <th>C</th>\n",
       "      <td>Shajie</td>\n",
       "      <td>33</td>\n",
       "      <td>Ontario</td>\n",
       "      <td>Canada</td>\n",
       "      <td>Data Analyst</td>\n",
       "    </tr>\n",
       "  </tbody>\n",
       "</table>\n",
       "</div>"
      ],
      "text/plain": [
       "     Name  Age     City       Country     Designation\n",
       "A    Amer   32      Hyd         India  Data Scientist\n",
       "B    Zaid   22   Riyadh  Saudi_Arabia       Data Engg\n",
       "C  Shajie   33  Ontario        Canada    Data Analyst"
      ]
     },
     "execution_count": 23,
     "metadata": {},
     "output_type": "execute_result"
    }
   ],
   "source": [
    "name=['Amer','Zaid','Shajie']\n",
    "age=[32,22,33]\n",
    "city=['Hyd','Riyadh','Ontario']\n",
    "country=['India','Saudi_Arabia','Canada']\n",
    "designation=['Data Scientist','Data Engg','Data Analyst']\n",
    "\n",
    "data=zip(name,age,city,country,designation)\n",
    "indx=['A','B','C']\n",
    "cols=['Name','Age','City','Country','Designation']\n",
    "\n",
    "df1=pd.DataFrame(data,indx,cols)\n",
    "df1"
   ]
  },
  {
   "cell_type": "code",
   "execution_count": 24,
   "id": "922fa235-c2f4-4363-9f65-61ef9fcbc749",
   "metadata": {},
   "outputs": [
    {
     "data": {
      "text/html": [
       "<div>\n",
       "<style scoped>\n",
       "    .dataframe tbody tr th:only-of-type {\n",
       "        vertical-align: middle;\n",
       "    }\n",
       "\n",
       "    .dataframe tbody tr th {\n",
       "        vertical-align: top;\n",
       "    }\n",
       "\n",
       "    .dataframe thead th {\n",
       "        text-align: right;\n",
       "    }\n",
       "</style>\n",
       "<table border=\"1\" class=\"dataframe\">\n",
       "  <thead>\n",
       "    <tr style=\"text-align: right;\">\n",
       "      <th></th>\n",
       "      <th>Name</th>\n",
       "      <th>Age</th>\n",
       "      <th>City</th>\n",
       "      <th>Country</th>\n",
       "      <th>Designation</th>\n",
       "    </tr>\n",
       "  </thead>\n",
       "  <tbody>\n",
       "    <tr>\n",
       "      <th>A</th>\n",
       "      <td>Amer</td>\n",
       "      <td>32</td>\n",
       "      <td>Hyd</td>\n",
       "      <td>India</td>\n",
       "      <td>Data Scientist</td>\n",
       "    </tr>\n",
       "    <tr>\n",
       "      <th>B</th>\n",
       "      <td>Zaid</td>\n",
       "      <td>22</td>\n",
       "      <td>Riyadh</td>\n",
       "      <td>Saudi_Arabia</td>\n",
       "      <td>Data Engg</td>\n",
       "    </tr>\n",
       "  </tbody>\n",
       "</table>\n",
       "</div>"
      ],
      "text/plain": [
       "   Name  Age    City       Country     Designation\n",
       "A  Amer   32     Hyd         India  Data Scientist\n",
       "B  Zaid   22  Riyadh  Saudi_Arabia       Data Engg"
      ]
     },
     "execution_count": 24,
     "metadata": {},
     "output_type": "execute_result"
    }
   ],
   "source": [
    "df2=df1.drop('C',axis=0,inplace=False)\n",
    "df2"
   ]
  },
  {
   "cell_type": "code",
   "execution_count": 25,
   "id": "50f3bc49-b282-4d8d-a94e-7f01655d4a62",
   "metadata": {},
   "outputs": [
    {
     "data": {
      "text/html": [
       "<div>\n",
       "<style scoped>\n",
       "    .dataframe tbody tr th:only-of-type {\n",
       "        vertical-align: middle;\n",
       "    }\n",
       "\n",
       "    .dataframe tbody tr th {\n",
       "        vertical-align: top;\n",
       "    }\n",
       "\n",
       "    .dataframe thead th {\n",
       "        text-align: right;\n",
       "    }\n",
       "</style>\n",
       "<table border=\"1\" class=\"dataframe\">\n",
       "  <thead>\n",
       "    <tr style=\"text-align: right;\">\n",
       "      <th></th>\n",
       "      <th>Name</th>\n",
       "      <th>Age</th>\n",
       "      <th>City</th>\n",
       "      <th>Country</th>\n",
       "      <th>Designation</th>\n",
       "    </tr>\n",
       "  </thead>\n",
       "  <tbody>\n",
       "    <tr>\n",
       "      <th>A</th>\n",
       "      <td>Amer</td>\n",
       "      <td>32</td>\n",
       "      <td>Hyd</td>\n",
       "      <td>India</td>\n",
       "      <td>Data Scientist</td>\n",
       "    </tr>\n",
       "    <tr>\n",
       "      <th>B</th>\n",
       "      <td>Zaid</td>\n",
       "      <td>22</td>\n",
       "      <td>Riyadh</td>\n",
       "      <td>Saudi_Arabia</td>\n",
       "      <td>Data Engg</td>\n",
       "    </tr>\n",
       "    <tr>\n",
       "      <th>C</th>\n",
       "      <td>Shajie</td>\n",
       "      <td>33</td>\n",
       "      <td>Ontario</td>\n",
       "      <td>Canada</td>\n",
       "      <td>Data Analyst</td>\n",
       "    </tr>\n",
       "  </tbody>\n",
       "</table>\n",
       "</div>"
      ],
      "text/plain": [
       "     Name  Age     City       Country     Designation\n",
       "A    Amer   32      Hyd         India  Data Scientist\n",
       "B    Zaid   22   Riyadh  Saudi_Arabia       Data Engg\n",
       "C  Shajie   33  Ontario        Canada    Data Analyst"
      ]
     },
     "execution_count": 25,
     "metadata": {},
     "output_type": "execute_result"
    }
   ],
   "source": [
    "df1"
   ]
  },
  {
   "cell_type": "code",
   "execution_count": 26,
   "id": "85bb9a10-92ae-4288-abc1-85d405b4211f",
   "metadata": {},
   "outputs": [
    {
     "data": {
      "text/html": [
       "<div>\n",
       "<style scoped>\n",
       "    .dataframe tbody tr th:only-of-type {\n",
       "        vertical-align: middle;\n",
       "    }\n",
       "\n",
       "    .dataframe tbody tr th {\n",
       "        vertical-align: top;\n",
       "    }\n",
       "\n",
       "    .dataframe thead th {\n",
       "        text-align: right;\n",
       "    }\n",
       "</style>\n",
       "<table border=\"1\" class=\"dataframe\">\n",
       "  <thead>\n",
       "    <tr style=\"text-align: right;\">\n",
       "      <th></th>\n",
       "      <th>Name</th>\n",
       "      <th>Age</th>\n",
       "      <th>City</th>\n",
       "      <th>Country</th>\n",
       "      <th>Designation</th>\n",
       "    </tr>\n",
       "  </thead>\n",
       "  <tbody>\n",
       "    <tr>\n",
       "      <th>A</th>\n",
       "      <td>Amer</td>\n",
       "      <td>32</td>\n",
       "      <td>Hyd</td>\n",
       "      <td>India</td>\n",
       "      <td>Data Scientist</td>\n",
       "    </tr>\n",
       "    <tr>\n",
       "      <th>B</th>\n",
       "      <td>Zaid</td>\n",
       "      <td>22</td>\n",
       "      <td>Riyadh</td>\n",
       "      <td>Saudi_Arabia</td>\n",
       "      <td>Data Engg</td>\n",
       "    </tr>\n",
       "  </tbody>\n",
       "</table>\n",
       "</div>"
      ],
      "text/plain": [
       "   Name  Age    City       Country     Designation\n",
       "A  Amer   32     Hyd         India  Data Scientist\n",
       "B  Zaid   22  Riyadh  Saudi_Arabia       Data Engg"
      ]
     },
     "execution_count": 26,
     "metadata": {},
     "output_type": "execute_result"
    }
   ],
   "source": [
    "df1.drop('C',axis=0,inplace=True)\n",
    "df1"
   ]
  },
  {
   "cell_type": "code",
   "execution_count": 27,
   "id": "053dc11a-ae2a-4ad1-8948-e68636efec95",
   "metadata": {},
   "outputs": [
    {
     "data": {
      "text/html": [
       "<div>\n",
       "<style scoped>\n",
       "    .dataframe tbody tr th:only-of-type {\n",
       "        vertical-align: middle;\n",
       "    }\n",
       "\n",
       "    .dataframe tbody tr th {\n",
       "        vertical-align: top;\n",
       "    }\n",
       "\n",
       "    .dataframe thead th {\n",
       "        text-align: right;\n",
       "    }\n",
       "</style>\n",
       "<table border=\"1\" class=\"dataframe\">\n",
       "  <thead>\n",
       "    <tr style=\"text-align: right;\">\n",
       "      <th></th>\n",
       "      <th>Name</th>\n",
       "      <th>Age</th>\n",
       "      <th>City</th>\n",
       "      <th>Country</th>\n",
       "      <th>Designation</th>\n",
       "    </tr>\n",
       "  </thead>\n",
       "  <tbody>\n",
       "    <tr>\n",
       "      <th>A</th>\n",
       "      <td>Amer</td>\n",
       "      <td>32</td>\n",
       "      <td>Hyd</td>\n",
       "      <td>India</td>\n",
       "      <td>Data Scientist</td>\n",
       "    </tr>\n",
       "    <tr>\n",
       "      <th>B</th>\n",
       "      <td>Zaid</td>\n",
       "      <td>22</td>\n",
       "      <td>Riyadh</td>\n",
       "      <td>Saudi_Arabia</td>\n",
       "      <td>Data Engg</td>\n",
       "    </tr>\n",
       "  </tbody>\n",
       "</table>\n",
       "</div>"
      ],
      "text/plain": [
       "   Name  Age    City       Country     Designation\n",
       "A  Amer   32     Hyd         India  Data Scientist\n",
       "B  Zaid   22  Riyadh  Saudi_Arabia       Data Engg"
      ]
     },
     "execution_count": 27,
     "metadata": {},
     "output_type": "execute_result"
    }
   ],
   "source": [
    "df1"
   ]
  },
  {
   "cell_type": "code",
   "execution_count": 28,
   "id": "a1077fd4-0a1c-4850-8d7d-407994fa0918",
   "metadata": {},
   "outputs": [],
   "source": [
    "df1.to_csv('new-data.csv')"
   ]
  },
  {
   "cell_type": "code",
   "execution_count": null,
   "id": "800041db-4479-4aa0-8299-cb4747d3a9c8",
   "metadata": {},
   "outputs": [],
   "source": []
  }
 ],
 "metadata": {
  "kernelspec": {
   "display_name": "Python 3 (ipykernel)",
   "language": "python",
   "name": "python3"
  },
  "language_info": {
   "codemirror_mode": {
    "name": "ipython",
    "version": 3
   },
   "file_extension": ".py",
   "mimetype": "text/x-python",
   "name": "python",
   "nbconvert_exporter": "python",
   "pygments_lexer": "ipython3",
   "version": "3.11.7"
  }
 },
 "nbformat": 4,
 "nbformat_minor": 5
}
